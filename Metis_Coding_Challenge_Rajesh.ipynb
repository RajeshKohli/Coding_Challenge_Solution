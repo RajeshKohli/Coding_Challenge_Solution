{
 "cells": [
  {
   "cell_type": "code",
   "execution_count": 4,
   "metadata": {
    "collapsed": true
   },
   "outputs": [],
   "source": [
    "#importing the various Python libraries / packages\n",
    "import pandas as pd\n",
    "from pandas import Series, DataFrame\n",
    "from datetime import datetime\n",
    "import matplotlib.pyplot as plt\n",
    "%matplotlib inline"
   ]
  },
  {
   "cell_type": "code",
   "execution_count": 31,
   "metadata": {
    "collapsed": false
   },
   "outputs": [],
   "source": [
    "# Read in the data file\n",
    "data_total = pd.read_csv(\"Speed_Camera_Violations.csv\")"
   ]
  },
  {
   "cell_type": "code",
   "execution_count": 32,
   "metadata": {
    "collapsed": false
   },
   "outputs": [
    {
     "name": "stdout",
     "output_type": "stream",
     "text": [
      "<class 'pandas.core.frame.DataFrame'>\n",
      "ADDRESS            object\n",
      "CAMERA ID          object\n",
      "VIOLATION DATE     object\n",
      "VIOLATIONS          int64\n",
      "X COORDINATE      float64\n",
      "Y COORDINATE      float64\n",
      "LATITUDE          float64\n",
      "LONGITUDE         float64\n",
      "LOCATION           object\n",
      "dtype: object\n"
     ]
    },
    {
     "data": {
      "text/html": [
       "<div>\n",
       "<table border=\"1\" class=\"dataframe\">\n",
       "  <thead>\n",
       "    <tr style=\"text-align: right;\">\n",
       "      <th></th>\n",
       "      <th>ADDRESS</th>\n",
       "      <th>CAMERA ID</th>\n",
       "      <th>VIOLATION DATE</th>\n",
       "      <th>VIOLATIONS</th>\n",
       "      <th>X COORDINATE</th>\n",
       "      <th>Y COORDINATE</th>\n",
       "      <th>LATITUDE</th>\n",
       "      <th>LONGITUDE</th>\n",
       "      <th>LOCATION</th>\n",
       "    </tr>\n",
       "  </thead>\n",
       "  <tbody>\n",
       "    <tr>\n",
       "      <th>0</th>\n",
       "      <td>10318 S INDIANAPOLIS</td>\n",
       "      <td>CHI120</td>\n",
       "      <td>02/12/2016</td>\n",
       "      <td>72</td>\n",
       "      <td>1203645.368141</td>\n",
       "      <td>1837056.144574</td>\n",
       "      <td>41.707577</td>\n",
       "      <td>-87.529848</td>\n",
       "      <td>(41.70757690291348, -87.52984826112849)</td>\n",
       "    </tr>\n",
       "    <tr>\n",
       "      <th>1</th>\n",
       "      <td>1110 S PULASKI RD</td>\n",
       "      <td>CHI163</td>\n",
       "      <td>02/12/2016</td>\n",
       "      <td>19</td>\n",
       "      <td>1149841.165944</td>\n",
       "      <td>1894930.809093</td>\n",
       "      <td>41.867603</td>\n",
       "      <td>-87.725383</td>\n",
       "      <td>(41.86760272243294, -87.7253827433152)</td>\n",
       "    </tr>\n",
       "    <tr>\n",
       "      <th>2</th>\n",
       "      <td>1111 N HUMBOLDT</td>\n",
       "      <td>CHI010</td>\n",
       "      <td>02/12/2016</td>\n",
       "      <td>65</td>\n",
       "      <td>NaN</td>\n",
       "      <td>NaN</td>\n",
       "      <td>NaN</td>\n",
       "      <td>NaN</td>\n",
       "      <td>NaN</td>\n",
       "    </tr>\n",
       "    <tr>\n",
       "      <th>3</th>\n",
       "      <td>11144 S VINCENNES</td>\n",
       "      <td>CHI023</td>\n",
       "      <td>02/12/2016</td>\n",
       "      <td>1</td>\n",
       "      <td>1166993.613106</td>\n",
       "      <td>1830711.216507</td>\n",
       "      <td>41.691025</td>\n",
       "      <td>-87.664248</td>\n",
       "      <td>(41.69102545584918, -87.6642476900556)</td>\n",
       "    </tr>\n",
       "    <tr>\n",
       "      <th>4</th>\n",
       "      <td>11153 S VINCENNES</td>\n",
       "      <td>CHI022</td>\n",
       "      <td>02/12/2016</td>\n",
       "      <td>13</td>\n",
       "      <td>1167028.752946</td>\n",
       "      <td>1830593.601477</td>\n",
       "      <td>41.690702</td>\n",
       "      <td>-87.664122</td>\n",
       "      <td>(41.690701951255015, -87.66412238501842)</td>\n",
       "    </tr>\n",
       "  </tbody>\n",
       "</table>\n",
       "</div>"
      ],
      "text/plain": [
       "                ADDRESS CAMERA ID VIOLATION DATE  VIOLATIONS    X COORDINATE  \\\n",
       "0  10318 S INDIANAPOLIS    CHI120     02/12/2016          72  1203645.368141   \n",
       "1     1110 S PULASKI RD    CHI163     02/12/2016          19  1149841.165944   \n",
       "2       1111 N HUMBOLDT    CHI010     02/12/2016          65             NaN   \n",
       "3     11144 S VINCENNES    CHI023     02/12/2016           1  1166993.613106   \n",
       "4     11153 S VINCENNES    CHI022     02/12/2016          13  1167028.752946   \n",
       "\n",
       "     Y COORDINATE   LATITUDE  LONGITUDE  \\\n",
       "0  1837056.144574  41.707577 -87.529848   \n",
       "1  1894930.809093  41.867603 -87.725383   \n",
       "2             NaN        NaN        NaN   \n",
       "3  1830711.216507  41.691025 -87.664248   \n",
       "4  1830593.601477  41.690702 -87.664122   \n",
       "\n",
       "                                   LOCATION  \n",
       "0   (41.70757690291348, -87.52984826112849)  \n",
       "1    (41.86760272243294, -87.7253827433152)  \n",
       "2                                       NaN  \n",
       "3    (41.69102545584918, -87.6642476900556)  \n",
       "4  (41.690701951255015, -87.66412238501842)  "
      ]
     },
     "execution_count": 32,
     "metadata": {},
     "output_type": "execute_result"
    }
   ],
   "source": [
    "print(type(data_total))\n",
    "print(data_total.dtypes)\n",
    "data_total.head()"
   ]
  },
  {
   "cell_type": "markdown",
   "metadata": {},
   "source": [
    "#### We see here that violaion date is not a datetime object in the original dataframe. We will need to convert it into a datetime object to be able to do computations on it."
   ]
  },
  {
   "cell_type": "code",
   "execution_count": 8,
   "metadata": {
    "collapsed": false
   },
   "outputs": [
    {
     "name": "stdout",
     "output_type": "stream",
     "text": [
      "(59905, 9)\n"
     ]
    }
   ],
   "source": [
    "print(data_total.shape)"
   ]
  },
  {
   "cell_type": "markdown",
   "metadata": {},
   "source": [
    "#### The given dataset has a total of 59905 rows and 9 columns"
   ]
  },
  {
   "cell_type": "code",
   "execution_count": 34,
   "metadata": {
    "collapsed": false
   },
   "outputs": [
    {
     "name": "stdout",
     "output_type": "stream",
     "text": [
      "0\n",
      "0\n"
     ]
    }
   ],
   "source": [
    "violations_null = pd.isnull(data_total[\"VIOLATIONS\"])\n",
    "violations_null_count = violations_null.sum()\n",
    "print(violations_null_count)\n",
    "violation_date_null = pd.isnull(data_total[\"VIOLATION DATE\"])\n",
    "violation_date_null_count = violation_date_null.sum()\n",
    "print(violation_date_null_count)"
   ]
  },
  {
   "cell_type": "markdown",
   "metadata": {},
   "source": [
    "#### We see that there are no null / missing values present in VIOLATIONS and VIOLATIONS DATE column"
   ]
  },
  {
   "cell_type": "code",
   "execution_count": 35,
   "metadata": {
    "collapsed": false
   },
   "outputs": [
    {
     "name": "stdout",
     "output_type": "stream",
     "text": [
      "150\n"
     ]
    }
   ],
   "source": [
    "unique_camera_ids= data_total[\"CAMERA ID\"].unique()\n",
    "print(len(unique_camera_ids))"
   ]
  },
  {
   "cell_type": "markdown",
   "metadata": {},
   "source": [
    "#### A total of 150 unique camera-id's are present in the entire data set"
   ]
  },
  {
   "cell_type": "code",
   "execution_count": 36,
   "metadata": {
    "collapsed": false
   },
   "outputs": [
    {
     "name": "stdout",
     "output_type": "stream",
     "text": [
      "<class 'pandas.core.frame.DataFrame'>\n",
      "Int64Index: 59905 entries, 0 to 59904\n",
      "Data columns (total 9 columns):\n",
      "ADDRESS           59905 non-null object\n",
      "CAMERA ID         59905 non-null object\n",
      "VIOLATION DATE    59905 non-null object\n",
      "VIOLATIONS        59905 non-null int64\n",
      "X COORDINATE      57506 non-null float64\n",
      "Y COORDINATE      57506 non-null float64\n",
      "LATITUDE          57506 non-null float64\n",
      "LONGITUDE         57506 non-null float64\n",
      "LOCATION          57506 non-null object\n",
      "dtypes: float64(4), int64(1), object(4)\n",
      "memory usage: 4.6+ MB\n"
     ]
    }
   ],
   "source": [
    "data_total.info()"
   ]
  },
  {
   "cell_type": "code",
   "execution_count": 37,
   "metadata": {
    "collapsed": false
   },
   "outputs": [
    {
     "data": {
      "text/plain": [
       "0    02/12/2016\n",
       "1    02/12/2016\n",
       "2    02/12/2016\n",
       "3    02/12/2016\n",
       "4    02/12/2016\n",
       "Name: VIOLATION DATE, dtype: object"
      ]
     },
     "execution_count": 37,
     "metadata": {},
     "output_type": "execute_result"
    }
   ],
   "source": [
    "data_total[\"VIOLATION DATE\"].head()"
   ]
  },
  {
   "cell_type": "markdown",
   "metadata": {},
   "source": [
    "#### The VIOLATION DATE is in mm/dd/yyyy format initially. Let's convert it to a date-time object."
   ]
  },
  {
   "cell_type": "code",
   "execution_count": 38,
   "metadata": {
    "collapsed": false
   },
   "outputs": [
    {
     "name": "stdout",
     "output_type": "stream",
     "text": [
      "<class 'pandas.core.frame.DataFrame'>\n",
      "Int64Index: 59905 entries, 0 to 59904\n",
      "Data columns (total 9 columns):\n",
      "ADDRESS           59905 non-null object\n",
      "CAMERA ID         59905 non-null object\n",
      "VIOLATION DATE    59905 non-null datetime64[ns]\n",
      "VIOLATIONS        59905 non-null int64\n",
      "X COORDINATE      57506 non-null float64\n",
      "Y COORDINATE      57506 non-null float64\n",
      "LATITUDE          57506 non-null float64\n",
      "LONGITUDE         57506 non-null float64\n",
      "LOCATION          57506 non-null object\n",
      "dtypes: datetime64[ns](1), float64(4), int64(1), object(3)\n",
      "memory usage: 4.6+ MB\n"
     ]
    }
   ],
   "source": [
    "data_total[\"VIOLATION DATE\"]= pd.to_datetime(data_total[\"VIOLATION DATE\"])\n",
    "data_total.info()"
   ]
  },
  {
   "cell_type": "code",
   "execution_count": 39,
   "metadata": {
    "collapsed": false
   },
   "outputs": [
    {
     "data": {
      "text/plain": [
       "0   2016-02-12\n",
       "1   2016-02-12\n",
       "2   2016-02-12\n",
       "3   2016-02-12\n",
       "4   2016-02-12\n",
       "Name: VIOLATION DATE, dtype: datetime64[ns]"
      ]
     },
     "execution_count": 39,
     "metadata": {},
     "output_type": "execute_result"
    }
   ],
   "source": [
    "data_total[\"VIOLATION DATE\"].head()"
   ]
  },
  {
   "cell_type": "markdown",
   "metadata": {},
   "source": [
    "#### Now the VIOLATION DATE has been converted into a date-time object. The next step is to extract day, month and year from the date given and insert new columns in the original dataset to be able to answer the questions asked."
   ]
  },
  {
   "cell_type": "code",
   "execution_count": 40,
   "metadata": {
    "collapsed": false
   },
   "outputs": [
    {
     "name": "stdout",
     "output_type": "stream",
     "text": [
      "0    Friday\n",
      "1    Friday\n",
      "2    Friday\n",
      "3    Friday\n",
      "4    Friday\n",
      "Name: VIOLATION DAY, dtype: object\n",
      "0    2\n",
      "1    2\n",
      "2    2\n",
      "3    2\n",
      "4    2\n",
      "Name: VIOLATION MONTH, dtype: int64\n",
      "0    2016\n",
      "1    2016\n",
      "2    2016\n",
      "3    2016\n",
      "4    2016\n",
      "Name: VIOLATION YEAR, dtype: int64\n"
     ]
    },
    {
     "data": {
      "text/html": [
       "<div>\n",
       "<table border=\"1\" class=\"dataframe\">\n",
       "  <thead>\n",
       "    <tr style=\"text-align: right;\">\n",
       "      <th></th>\n",
       "      <th>ADDRESS</th>\n",
       "      <th>CAMERA ID</th>\n",
       "      <th>VIOLATION DATE</th>\n",
       "      <th>VIOLATIONS</th>\n",
       "      <th>X COORDINATE</th>\n",
       "      <th>Y COORDINATE</th>\n",
       "      <th>LATITUDE</th>\n",
       "      <th>LONGITUDE</th>\n",
       "      <th>LOCATION</th>\n",
       "      <th>VIOLATION DAY</th>\n",
       "      <th>VIOLATION MONTH</th>\n",
       "      <th>VIOLATION YEAR</th>\n",
       "    </tr>\n",
       "  </thead>\n",
       "  <tbody>\n",
       "    <tr>\n",
       "      <th>0</th>\n",
       "      <td>10318 S INDIANAPOLIS</td>\n",
       "      <td>CHI120</td>\n",
       "      <td>2016-02-12</td>\n",
       "      <td>72</td>\n",
       "      <td>1203645.368141</td>\n",
       "      <td>1837056.144574</td>\n",
       "      <td>41.707577</td>\n",
       "      <td>-87.529848</td>\n",
       "      <td>(41.70757690291348, -87.52984826112849)</td>\n",
       "      <td>Friday</td>\n",
       "      <td>2</td>\n",
       "      <td>2016</td>\n",
       "    </tr>\n",
       "    <tr>\n",
       "      <th>1</th>\n",
       "      <td>1110 S PULASKI RD</td>\n",
       "      <td>CHI163</td>\n",
       "      <td>2016-02-12</td>\n",
       "      <td>19</td>\n",
       "      <td>1149841.165944</td>\n",
       "      <td>1894930.809093</td>\n",
       "      <td>41.867603</td>\n",
       "      <td>-87.725383</td>\n",
       "      <td>(41.86760272243294, -87.7253827433152)</td>\n",
       "      <td>Friday</td>\n",
       "      <td>2</td>\n",
       "      <td>2016</td>\n",
       "    </tr>\n",
       "    <tr>\n",
       "      <th>2</th>\n",
       "      <td>1111 N HUMBOLDT</td>\n",
       "      <td>CHI010</td>\n",
       "      <td>2016-02-12</td>\n",
       "      <td>65</td>\n",
       "      <td>NaN</td>\n",
       "      <td>NaN</td>\n",
       "      <td>NaN</td>\n",
       "      <td>NaN</td>\n",
       "      <td>NaN</td>\n",
       "      <td>Friday</td>\n",
       "      <td>2</td>\n",
       "      <td>2016</td>\n",
       "    </tr>\n",
       "    <tr>\n",
       "      <th>3</th>\n",
       "      <td>11144 S VINCENNES</td>\n",
       "      <td>CHI023</td>\n",
       "      <td>2016-02-12</td>\n",
       "      <td>1</td>\n",
       "      <td>1166993.613106</td>\n",
       "      <td>1830711.216507</td>\n",
       "      <td>41.691025</td>\n",
       "      <td>-87.664248</td>\n",
       "      <td>(41.69102545584918, -87.6642476900556)</td>\n",
       "      <td>Friday</td>\n",
       "      <td>2</td>\n",
       "      <td>2016</td>\n",
       "    </tr>\n",
       "    <tr>\n",
       "      <th>4</th>\n",
       "      <td>11153 S VINCENNES</td>\n",
       "      <td>CHI022</td>\n",
       "      <td>2016-02-12</td>\n",
       "      <td>13</td>\n",
       "      <td>1167028.752946</td>\n",
       "      <td>1830593.601477</td>\n",
       "      <td>41.690702</td>\n",
       "      <td>-87.664122</td>\n",
       "      <td>(41.690701951255015, -87.66412238501842)</td>\n",
       "      <td>Friday</td>\n",
       "      <td>2</td>\n",
       "      <td>2016</td>\n",
       "    </tr>\n",
       "  </tbody>\n",
       "</table>\n",
       "</div>"
      ],
      "text/plain": [
       "                ADDRESS CAMERA ID VIOLATION DATE  VIOLATIONS    X COORDINATE  \\\n",
       "0  10318 S INDIANAPOLIS    CHI120     2016-02-12          72  1203645.368141   \n",
       "1     1110 S PULASKI RD    CHI163     2016-02-12          19  1149841.165944   \n",
       "2       1111 N HUMBOLDT    CHI010     2016-02-12          65             NaN   \n",
       "3     11144 S VINCENNES    CHI023     2016-02-12           1  1166993.613106   \n",
       "4     11153 S VINCENNES    CHI022     2016-02-12          13  1167028.752946   \n",
       "\n",
       "     Y COORDINATE   LATITUDE  LONGITUDE  \\\n",
       "0  1837056.144574  41.707577 -87.529848   \n",
       "1  1894930.809093  41.867603 -87.725383   \n",
       "2             NaN        NaN        NaN   \n",
       "3  1830711.216507  41.691025 -87.664248   \n",
       "4  1830593.601477  41.690702 -87.664122   \n",
       "\n",
       "                                   LOCATION VIOLATION DAY  VIOLATION MONTH  \\\n",
       "0   (41.70757690291348, -87.52984826112849)        Friday                2   \n",
       "1    (41.86760272243294, -87.7253827433152)        Friday                2   \n",
       "2                                       NaN        Friday                2   \n",
       "3    (41.69102545584918, -87.6642476900556)        Friday                2   \n",
       "4  (41.690701951255015, -87.66412238501842)        Friday                2   \n",
       "\n",
       "   VIOLATION YEAR  \n",
       "0            2016  \n",
       "1            2016  \n",
       "2            2016  \n",
       "3            2016  \n",
       "4            2016  "
      ]
     },
     "execution_count": 40,
     "metadata": {},
     "output_type": "execute_result"
    }
   ],
   "source": [
    "from datetime import date\n",
    "import calendar\n",
    "test_col=[]\n",
    "test_col1=[]\n",
    "test_col2=[]\n",
    "for i in data_total[\"VIOLATION DATE\"]:\n",
    "    a = calendar.day_name[i.weekday()]\n",
    "    b = i.month\n",
    "    c = i.year\n",
    "    test_col.append(a)\n",
    "    test_col1.append(b)\n",
    "    test_col2.append(c)\n",
    "    \n",
    "data_total[\"VIOLATION DAY\"] = test_col\n",
    "data_total[\"VIOLATION MONTH\"] = test_col1\n",
    "data_total[\"VIOLATION YEAR\"] = test_col2\n",
    "\n",
    "print(data_total[\"VIOLATION DAY\"][0:5]) \n",
    "print(data_total[\"VIOLATION MONTH\"][0:5])\n",
    "print(data_total[\"VIOLATION YEAR\"][0:5])\n",
    "data_total.head()"
   ]
  },
  {
   "cell_type": "markdown",
   "metadata": {},
   "source": [
    "### We now have three new columns added in the original dataset - VIOLATION DAY, VIOLATION MONTH, and VIOLATION YEAR"
   ]
  },
  {
   "cell_type": "markdown",
   "metadata": {},
   "source": [
    "## Question: What is the average number of citations issued per camera, per day?\n",
    "\n",
    "#### I have answered this question by finding out the average of violations for each camera-id on a given day over the entire time-span."
   ]
  },
  {
   "cell_type": "code",
   "execution_count": 42,
   "metadata": {
    "collapsed": true
   },
   "outputs": [],
   "source": [
    "average_citations_per_camera_per_day = data_total.groupby([\"CAMERA ID\",\"VIOLATION DAY\"])[\"VIOLATIONS\"].mean()"
   ]
  },
  {
   "cell_type": "code",
   "execution_count": 43,
   "metadata": {
    "collapsed": false
   },
   "outputs": [
    {
     "name": "stdout",
     "output_type": "stream",
     "text": [
      "CAMERA ID  VIOLATION DAY\n",
      "CHI003     Friday           107.823529\n",
      "           Monday            93.253012\n",
      "           Saturday         141.261905\n",
      "           Sunday           138.000000\n",
      "           Thursday         104.247059\n",
      "           Tuesday           89.630952\n",
      "           Wednesday         90.682353\n",
      "CHI004     Friday            40.011905\n",
      "           Monday            33.134146\n",
      "           Saturday          47.845238\n",
      "Name: VIOLATIONS, dtype: float64\n"
     ]
    }
   ],
   "source": [
    "print(average_citations_per_camera_per_day[0:10])"
   ]
  },
  {
   "cell_type": "code",
   "execution_count": 44,
   "metadata": {
    "collapsed": false
   },
   "outputs": [
    {
     "data": {
      "text/plain": [
       "count    906.000000\n",
       "mean      30.680760\n",
       "std       34.670738\n",
       "min        1.160000\n",
       "25%        9.310390\n",
       "50%       19.026122\n",
       "75%       38.266333\n",
       "max      311.179104\n",
       "Name: VIOLATIONS, dtype: float64"
      ]
     },
     "execution_count": 44,
     "metadata": {},
     "output_type": "execute_result"
    }
   ],
   "source": [
    "average_citations_per_camera_per_day.describe()"
   ]
  },
  {
   "cell_type": "markdown",
   "metadata": {},
   "source": [
    "#### From the output above, we see that for each camera-id, we have an average number of violations for each day of the week. Also, we see that the total count is 906 from 1st July 2014 until 12th Feb 2016. If we do the calculation considering seven days in a week and we have 150 unique camera ID's, the total comes out to 7 * 150 = 1050. This means that there are few days of the week when few cameras were not used for reporting violations and also, there might be new cameras which were added with time."
   ]
  },
  {
   "cell_type": "markdown",
   "metadata": {},
   "source": [
    "## Question: On which day of the week are the most citations issued?"
   ]
  },
  {
   "cell_type": "code",
   "execution_count": 45,
   "metadata": {
    "collapsed": true
   },
   "outputs": [],
   "source": [
    "count_violations_per_day = data_total.groupby([\"VIOLATION DAY\"])[\"VIOLATIONS\"].count()"
   ]
  },
  {
   "cell_type": "code",
   "execution_count": 48,
   "metadata": {
    "collapsed": false
   },
   "outputs": [
    {
     "name": "stdout",
     "output_type": "stream",
     "text": [
      "VIOLATION DAY\n",
      "Friday       9508\n",
      "Monday       9340\n",
      "Saturday     5839\n",
      "Sunday       5829\n",
      "Thursday     9728\n",
      "Tuesday      9946\n",
      "Wednesday    9715\n",
      "Name: VIOLATIONS, dtype: int64\n"
     ]
    },
    {
     "data": {
      "text/plain": [
       "[<matplotlib.lines.Line2D at 0x10616198>]"
      ]
     },
     "execution_count": 48,
     "metadata": {},
     "output_type": "execute_result"
    },
    {
     "data": {
      "image/png": "[encoded data removed]",
      "text/plain": [
       "<matplotlib.figure.Figure at 0xd9f0a58>"
      ]
     },
     "metadata": {},
     "output_type": "display_data"
    }
   ],
   "source": [
    "print(count_violations_per_day)\n",
    "plt.plot(count_violations_per_day)"
   ]
  },
  {
   "cell_type": "markdown",
   "metadata": {},
   "source": [
    "#### From the above output, we see that the most citations were issued on Tuesday."
   ]
  },
  {
   "cell_type": "markdown",
   "metadata": {},
   "source": [
    "## Question: Have the number of active cameras increased or decreased over the collection period?\n",
    "\n",
    "#### I have answered this question by considering the count of unique camera-id's in each month from July 2012 until Feb 2016 (total 20 months) and then observed the pattern to see if there is an increasing or decreasing trend."
   ]
  },
  {
   "cell_type": "code",
   "execution_count": 49,
   "metadata": {
    "collapsed": true
   },
   "outputs": [],
   "source": [
    "active_cameras_pattern = data_total.groupby([\"VIOLATION YEAR\",\"VIOLATION MONTH\"])[\"CAMERA ID\"].nunique().reset_index()"
   ]
  },
  {
   "cell_type": "code",
   "execution_count": 50,
   "metadata": {
    "collapsed": false
   },
   "outputs": [
    {
     "data": {
      "text/html": [
       "<div>\n",
       "<table border=\"1\" class=\"dataframe\">\n",
       "  <thead>\n",
       "    <tr style=\"text-align: right;\">\n",
       "      <th></th>\n",
       "      <th>VIOLATION YEAR</th>\n",
       "      <th>VIOLATION MONTH</th>\n",
       "      <th>CAMERA ID</th>\n",
       "    </tr>\n",
       "  </thead>\n",
       "  <tbody>\n",
       "    <tr>\n",
       "      <th>0</th>\n",
       "      <td>2014</td>\n",
       "      <td>7</td>\n",
       "      <td>101</td>\n",
       "    </tr>\n",
       "    <tr>\n",
       "      <th>1</th>\n",
       "      <td>2014</td>\n",
       "      <td>8</td>\n",
       "      <td>75</td>\n",
       "    </tr>\n",
       "    <tr>\n",
       "      <th>2</th>\n",
       "      <td>2014</td>\n",
       "      <td>9</td>\n",
       "      <td>125</td>\n",
       "    </tr>\n",
       "    <tr>\n",
       "      <th>3</th>\n",
       "      <td>2014</td>\n",
       "      <td>10</td>\n",
       "      <td>131</td>\n",
       "    </tr>\n",
       "    <tr>\n",
       "      <th>4</th>\n",
       "      <td>2014</td>\n",
       "      <td>11</td>\n",
       "      <td>143</td>\n",
       "    </tr>\n",
       "    <tr>\n",
       "      <th>5</th>\n",
       "      <td>2014</td>\n",
       "      <td>12</td>\n",
       "      <td>143</td>\n",
       "    </tr>\n",
       "    <tr>\n",
       "      <th>6</th>\n",
       "      <td>2015</td>\n",
       "      <td>1</td>\n",
       "      <td>143</td>\n",
       "    </tr>\n",
       "    <tr>\n",
       "      <th>7</th>\n",
       "      <td>2015</td>\n",
       "      <td>2</td>\n",
       "      <td>146</td>\n",
       "    </tr>\n",
       "    <tr>\n",
       "      <th>8</th>\n",
       "      <td>2015</td>\n",
       "      <td>3</td>\n",
       "      <td>145</td>\n",
       "    </tr>\n",
       "    <tr>\n",
       "      <th>9</th>\n",
       "      <td>2015</td>\n",
       "      <td>4</td>\n",
       "      <td>146</td>\n",
       "    </tr>\n",
       "    <tr>\n",
       "      <th>10</th>\n",
       "      <td>2015</td>\n",
       "      <td>5</td>\n",
       "      <td>146</td>\n",
       "    </tr>\n",
       "    <tr>\n",
       "      <th>11</th>\n",
       "      <td>2015</td>\n",
       "      <td>6</td>\n",
       "      <td>146</td>\n",
       "    </tr>\n",
       "    <tr>\n",
       "      <th>12</th>\n",
       "      <td>2015</td>\n",
       "      <td>7</td>\n",
       "      <td>100</td>\n",
       "    </tr>\n",
       "    <tr>\n",
       "      <th>13</th>\n",
       "      <td>2015</td>\n",
       "      <td>8</td>\n",
       "      <td>96</td>\n",
       "    </tr>\n",
       "    <tr>\n",
       "      <th>14</th>\n",
       "      <td>2015</td>\n",
       "      <td>9</td>\n",
       "      <td>143</td>\n",
       "    </tr>\n",
       "    <tr>\n",
       "      <th>15</th>\n",
       "      <td>2015</td>\n",
       "      <td>10</td>\n",
       "      <td>144</td>\n",
       "    </tr>\n",
       "    <tr>\n",
       "      <th>16</th>\n",
       "      <td>2015</td>\n",
       "      <td>11</td>\n",
       "      <td>143</td>\n",
       "    </tr>\n",
       "    <tr>\n",
       "      <th>17</th>\n",
       "      <td>2015</td>\n",
       "      <td>12</td>\n",
       "      <td>147</td>\n",
       "    </tr>\n",
       "    <tr>\n",
       "      <th>18</th>\n",
       "      <td>2016</td>\n",
       "      <td>1</td>\n",
       "      <td>147</td>\n",
       "    </tr>\n",
       "    <tr>\n",
       "      <th>19</th>\n",
       "      <td>2016</td>\n",
       "      <td>2</td>\n",
       "      <td>148</td>\n",
       "    </tr>\n",
       "  </tbody>\n",
       "</table>\n",
       "</div>"
      ],
      "text/plain": [
       "    VIOLATION YEAR  VIOLATION MONTH  CAMERA ID\n",
       "0             2014                7        101\n",
       "1             2014                8         75\n",
       "2             2014                9        125\n",
       "3             2014               10        131\n",
       "4             2014               11        143\n",
       "5             2014               12        143\n",
       "6             2015                1        143\n",
       "7             2015                2        146\n",
       "8             2015                3        145\n",
       "9             2015                4        146\n",
       "10            2015                5        146\n",
       "11            2015                6        146\n",
       "12            2015                7        100\n",
       "13            2015                8         96\n",
       "14            2015                9        143\n",
       "15            2015               10        144\n",
       "16            2015               11        143\n",
       "17            2015               12        147\n",
       "18            2016                1        147\n",
       "19            2016                2        148"
      ]
     },
     "execution_count": 50,
     "metadata": {},
     "output_type": "execute_result"
    }
   ],
   "source": [
    "active_cameras_pattern"
   ]
  },
  {
   "cell_type": "code",
   "execution_count": 26,
   "metadata": {
    "collapsed": true
   },
   "outputs": [],
   "source": [
    "active_cameras_pattern[\"ID\"] = [1,2,3,4,5,6,7,8,9,10,11,12,13,14,15,16,17,18,19,20]"
   ]
  },
  {
   "cell_type": "code",
   "execution_count": 27,
   "metadata": {
    "collapsed": false
   },
   "outputs": [
    {
     "data": {
      "text/html": [
       "<div>\n",
       "<table border=\"1\" class=\"dataframe\">\n",
       "  <thead>\n",
       "    <tr style=\"text-align: right;\">\n",
       "      <th></th>\n",
       "      <th>VIOLATION YEAR</th>\n",
       "      <th>VIOLATION MONTH</th>\n",
       "      <th>CAMERA ID</th>\n",
       "      <th>ID</th>\n",
       "    </tr>\n",
       "  </thead>\n",
       "  <tbody>\n",
       "    <tr>\n",
       "      <th>0</th>\n",
       "      <td>2014</td>\n",
       "      <td>7</td>\n",
       "      <td>101</td>\n",
       "      <td>1</td>\n",
       "    </tr>\n",
       "    <tr>\n",
       "      <th>1</th>\n",
       "      <td>2014</td>\n",
       "      <td>8</td>\n",
       "      <td>75</td>\n",
       "      <td>2</td>\n",
       "    </tr>\n",
       "    <tr>\n",
       "      <th>2</th>\n",
       "      <td>2014</td>\n",
       "      <td>9</td>\n",
       "      <td>125</td>\n",
       "      <td>3</td>\n",
       "    </tr>\n",
       "    <tr>\n",
       "      <th>3</th>\n",
       "      <td>2014</td>\n",
       "      <td>10</td>\n",
       "      <td>131</td>\n",
       "      <td>4</td>\n",
       "    </tr>\n",
       "    <tr>\n",
       "      <th>4</th>\n",
       "      <td>2014</td>\n",
       "      <td>11</td>\n",
       "      <td>143</td>\n",
       "      <td>5</td>\n",
       "    </tr>\n",
       "  </tbody>\n",
       "</table>\n",
       "</div>"
      ],
      "text/plain": [
       "   VIOLATION YEAR  VIOLATION MONTH  CAMERA ID  ID\n",
       "0            2014                7        101   1\n",
       "1            2014                8         75   2\n",
       "2            2014                9        125   3\n",
       "3            2014               10        131   4\n",
       "4            2014               11        143   5"
      ]
     },
     "execution_count": 27,
     "metadata": {},
     "output_type": "execute_result"
    }
   ],
   "source": [
    "active_cameras_pattern.head()"
   ]
  },
  {
   "cell_type": "code",
   "execution_count": 28,
   "metadata": {
    "collapsed": false
   },
   "outputs": [
    {
     "data": {
      "text/plain": [
       "[<matplotlib.lines.Line2D at 0xd9dda58>]"
      ]
     },
     "execution_count": 28,
     "metadata": {},
     "output_type": "execute_result"
    },
    {
     "data": {
      "image/png": "[encoded data removed]",
      "text/plain": [
       "<matplotlib.figure.Figure at 0xc59d320>"
      ]
     },
     "metadata": {},
     "output_type": "display_data"
    }
   ],
   "source": [
    "plt.plot(active_cameras_pattern[\"ID\"],active_cameras_pattern[\"CAMERA ID\"])"
   ]
  },
  {
   "cell_type": "markdown",
   "metadata": {},
   "source": [
    "#### From the above output, we see that there has been an increasing (uniform / constant) trend for most of the months, except in August 2014 and August 2015, the number has gone down significantly."
   ]
  }
 ],
 "metadata": {
  "kernelspec": {
   "display_name": "Python 2",
   "language": "python",
   "name": "python2"
  },
  "language_info": {
   "codemirror_mode": {
    "name": "ipython",
    "version": 2
   },
   "file_extension": ".py",
   "mimetype": "text/x-python",
   "name": "python",
   "nbconvert_exporter": "python",
   "pygments_lexer": "ipython2",
   "version": "2.7.10"
  }
 },
 "nbformat": 4,
 "nbformat_minor": 0
}
